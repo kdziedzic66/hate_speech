{
 "cells": [
  {
   "cell_type": "code",
   "execution_count": 9,
   "id": "98e726a9",
   "metadata": {},
   "outputs": [],
   "source": [
    "import os\n",
    "import numpy as np\n",
    "import torch\n",
    "import torch.nn as nn\n",
    "\n",
    "from pipeline.bert_classifier_module import BertHateClassifier\n",
    "from transformers import BertTokenizer, BertForSequenceClassification\n",
    "import utils.pytorch as pytorch_utils"
   ]
  },
  {
   "cell_type": "code",
   "execution_count": 10,
   "id": "163c72a5",
   "metadata": {},
   "outputs": [],
   "source": [
    "from utils.helpers import broadcast_list_to_type"
   ]
  },
  {
   "cell_type": "code",
   "execution_count": 11,
   "id": "3e7861ad",
   "metadata": {},
   "outputs": [],
   "source": [
    "a = [\"3\", \"3\"]\n",
    "a = broadcast_list_to_type(a, int)"
   ]
  },
  {
   "cell_type": "code",
   "execution_count": 12,
   "id": "1b287414",
   "metadata": {},
   "outputs": [
    {
     "data": {
      "text/plain": [
       "[3, 3]"
      ]
     },
     "execution_count": 12,
     "metadata": {},
     "output_type": "execute_result"
    }
   ],
   "source": [
    "a"
   ]
  },
  {
   "cell_type": "code",
   "execution_count": 13,
   "id": "15f4bab4",
   "metadata": {},
   "outputs": [],
   "source": [
    "tokenizer = BertTokenizer.from_pretrained(\"dkleczek/bert-base-polish-cased-v1\")"
   ]
  },
  {
   "cell_type": "code",
   "execution_count": 18,
   "id": "dd4b9a5b",
   "metadata": {},
   "outputs": [],
   "source": [
    "class HateSpeechDataset(torch.utils.data.HateSpeechDataset):\n",
    "    \n",
    "    def __init__(self):\n",
    "        with open(os.path.join(\"datafiles\", \"training_set_clean_only_text.txt\"), encoding=\"utf-8\") as f:\n",
    "            texts = f.readlines()\n",
    "            self.texts = [text.strip() for text in texts]\n",
    "        with open(os.path.join(\"datafiles\", \"training_set_clean_only_tags.txt\"), encoding=\"utf-8\") as f:\n",
    "            self.labels = f.readlines()\n",
    "            self.labels = [int(lab.strip()) for lab in self.labels]\n",
    "        assert len(self.texts) == len(self.labels)\n",
    "    \n",
    "    def __getitem__(self, idx):\n",
    "        text = self.texts[idx]\n",
    "        label = self.labels[idx]\n",
    "        return text, label\n",
    "    \n",
    "    def __len__(self):\n",
    "        return len(self.texts)\n",
    "    "
   ]
  },
  {
   "cell_type": "code",
   "execution_count": 19,
   "id": "c288cf1a",
   "metadata": {},
   "outputs": [],
   "source": [
    "class DataLoader(torch.utils.data.DataLoader):\n",
    "    \n",
    "    def __init__(self):\n",
    "        dataset = HateSpeechDataset()\n",
    "        print(len(dataset))\n",
    "        super(DataLoader, self).__init__(\n",
    "            dataset=dataset,\n",
    "            collate_fn=_collate_fn(tokenizer),\n",
    "            batch_size=32,\n",
    "            num_workers=1,\n",
    "            shuffle=True,\n",
    "            drop_last=False,\n",
    "        )"
   ]
  },
  {
   "cell_type": "code",
   "execution_count": 20,
   "id": "9d416b4a",
   "metadata": {},
   "outputs": [],
   "source": [
    "def _collate_fn(tokenizer):\n",
    "    def _make_batch(datapoints) -> dict:\n",
    "        attention_masks = []\n",
    "        input_ids = []\n",
    "        labels = []\n",
    "        for text, label in datapoints:\n",
    "            encoding = tokenizer.encode_plus(\n",
    "                  text,\n",
    "                  add_special_tokens=True,\n",
    "                  max_length=512,\n",
    "                  return_token_type_ids=False,\n",
    "                  padding=\"max_length\",\n",
    "                  truncation=True,\n",
    "                  return_attention_mask=True,\n",
    "                  return_tensors='pt',\n",
    "                )\n",
    "            attention_masks.append(encoding[\"attention_mask\"])\n",
    "            input_ids.append(encoding[\"input_ids\"])\n",
    "            labels.append(label)\n",
    "        batch = {\n",
    "            \"input_ids\": torch.cat(input_ids, axis=0),\n",
    "            \"attention_masks\": torch.cat(attention_masks, axis=0),\n",
    "            \"targets\": torch.from_numpy(np.array(labels))\n",
    "        }\n",
    "        return batch\n",
    "    return _make_batch"
   ]
  },
  {
   "cell_type": "code",
   "execution_count": 21,
   "id": "085aa05a",
   "metadata": {},
   "outputs": [
    {
     "name": "stdout",
     "output_type": "stream",
     "text": [
      "10041\n"
     ]
    }
   ],
   "source": [
    "dataloader = DataLoader()"
   ]
  },
  {
   "cell_type": "code",
   "execution_count": 22,
   "id": "46e8da1a",
   "metadata": {},
   "outputs": [
    {
     "name": "stderr",
     "output_type": "stream",
     "text": [
      "Some weights of the model checkpoint at dkleczek/bert-base-polish-cased-v1 were not used when initializing BertModel: ['cls.seq_relationship.bias', 'cls.predictions.transform.LayerNorm.weight', 'cls.predictions.bias', 'cls.seq_relationship.weight', 'cls.predictions.transform.dense.weight', 'cls.predictions.transform.LayerNorm.bias', 'cls.predictions.transform.dense.bias', 'cls.predictions.decoder.weight', 'cls.predictions.decoder.bias']\n",
      "- This IS expected if you are initializing BertModel from the checkpoint of a model trained on another task or with another architecture (e.g. initializing a BertForSequenceClassification model from a BertForPreTraining model).\n",
      "- This IS NOT expected if you are initializing BertModel from the checkpoint of a model that you expect to be exactly identical (initializing a BertForSequenceClassification model from a BertForSequenceClassification model).\n"
     ]
    }
   ],
   "source": [
    "model = BertHateClassifier()"
   ]
  },
  {
   "cell_type": "code",
   "execution_count": 23,
   "id": "30022f45",
   "metadata": {},
   "outputs": [],
   "source": [
    "optimizer = pytorch_utils.create_optimizer(\n",
    "            params=model.parameters(),\n",
    "            optimizer_name=\"sgd\",\n",
    "            init_lr=1e-04,\n",
    "            weight_decay=0,\n",
    "        )\n",
    "\n",
    "\n",
    "lr_scheduler = pytorch_utils.create_lr_scheduler(\n",
    "    optimizer=optimizer,\n",
    "    num_iterations=30000,\n",
    "    gamma=1e-1,\n",
    "    milestones=[0.4, 0.7, 0.9]\n",
    ")"
   ]
  },
  {
   "cell_type": "code",
   "execution_count": 24,
   "id": "dbaa13ef",
   "metadata": {},
   "outputs": [],
   "source": [
    "encoding = tokenizer.encode_plus(\n",
    "                  \"Jedziemy po zioło\",\n",
    "                  add_special_tokens=True,\n",
    "                  max_length=512,\n",
    "                  return_token_type_ids=False,\n",
    "                  padding=\"max_length\",\n",
    "                  truncation=True,\n",
    "                  return_attention_mask=True,\n",
    "                  return_tensors='pt',\n",
    "                )"
   ]
  },
  {
   "cell_type": "code",
   "execution_count": null,
   "id": "7fbc7c66",
   "metadata": {},
   "outputs": [],
   "source": [
    "criterion = nn.CrossEntropyLoss()\n",
    "for batch in dataloader:\n",
    "    logits = model(batch[\"input_ids\"], batch[\"attention_masks\"])\n",
    "    optimizer.zero_grad()\n",
    "    loss = criterion(logits, batch[\"targets\"])\n",
    "    loss.backward()\n",
    "    optimizer.step()\n",
    "    lr_scheduler.step() \n",
    "    print(loss)"
   ]
  },
  {
   "cell_type": "code",
   "execution_count": null,
   "id": "6e469243",
   "metadata": {},
   "outputs": [],
   "source": []
  }
 ],
 "metadata": {
  "kernelspec": {
   "display_name": "Python 3",
   "language": "python",
   "name": "python3"
  },
  "language_info": {
   "codemirror_mode": {
    "name": "ipython",
    "version": 3
   },
   "file_extension": ".py",
   "mimetype": "text/x-python",
   "name": "python",
   "nbconvert_exporter": "python",
   "pygments_lexer": "ipython3",
   "version": "3.6.9"
  }
 },
 "nbformat": 4,
 "nbformat_minor": 5
}
